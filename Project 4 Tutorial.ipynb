{
 "cells": [
  {
   "cell_type": "code",
   "execution_count": 48,
   "id": "14b85dba",
   "metadata": {},
   "outputs": [],
   "source": [
    "# This code imports some of the libraries we need.\n",
    "import pandas as pd\n",
    "import numpy as np\n",
    "from scipy.stats import norm"
   ]
  },
  {
   "cell_type": "code",
   "execution_count": 49,
   "id": "9b3bebc9",
   "metadata": {},
   "outputs": [
    {
     "name": "stderr",
     "output_type": "stream",
     "text": [
      "C:\\Users\\scifi\\AppData\\Local\\Temp\\ipykernel_16452\\3668379741.py:2: DtypeWarning: Columns (5,6,7) have mixed types. Specify dtype option on import or set low_memory=False.\n",
      "  df = pd.read_csv(\"kickstarter.csv\")\n"
     ]
    }
   ],
   "source": [
    "# This code imports the data.\n",
    "df = pd.read_csv(\"kickstarter.csv\")"
   ]
  },
  {
   "cell_type": "code",
   "execution_count": 50,
   "id": "51e08f54",
   "metadata": {},
   "outputs": [
    {
     "data": {
      "text/html": [
       "<div>\n",
       "<style scoped>\n",
       "    .dataframe tbody tr th:only-of-type {\n",
       "        vertical-align: middle;\n",
       "    }\n",
       "\n",
       "    .dataframe tbody tr th {\n",
       "        vertical-align: top;\n",
       "    }\n",
       "\n",
       "    .dataframe thead th {\n",
       "        text-align: right;\n",
       "    }\n",
       "</style>\n",
       "<table border=\"1\" class=\"dataframe\">\n",
       "  <thead>\n",
       "    <tr style=\"text-align: right;\">\n",
       "      <th></th>\n",
       "      <th>category</th>\n",
       "      <th>state</th>\n",
       "      <th>backers</th>\n",
       "      <th>country</th>\n",
       "      <th>usd pledged</th>\n",
       "      <th>Unnamed: 5</th>\n",
       "      <th>Unnamed: 6</th>\n",
       "      <th>Unnamed: 7</th>\n",
       "      <th>Unnamed: 8</th>\n",
       "    </tr>\n",
       "  </thead>\n",
       "  <tbody>\n",
       "    <tr>\n",
       "      <th>0</th>\n",
       "      <td>Publishing</td>\n",
       "      <td>failed</td>\n",
       "      <td>0</td>\n",
       "      <td>GB</td>\n",
       "      <td>0</td>\n",
       "      <td>NaN</td>\n",
       "      <td>NaN</td>\n",
       "      <td>NaN</td>\n",
       "      <td>NaN</td>\n",
       "    </tr>\n",
       "    <tr>\n",
       "      <th>1</th>\n",
       "      <td>Film &amp; Video</td>\n",
       "      <td>failed</td>\n",
       "      <td>3</td>\n",
       "      <td>US</td>\n",
       "      <td>220</td>\n",
       "      <td>NaN</td>\n",
       "      <td>NaN</td>\n",
       "      <td>NaN</td>\n",
       "      <td>NaN</td>\n",
       "    </tr>\n",
       "    <tr>\n",
       "      <th>2</th>\n",
       "      <td>Music</td>\n",
       "      <td>failed</td>\n",
       "      <td>1</td>\n",
       "      <td>US</td>\n",
       "      <td>1</td>\n",
       "      <td>NaN</td>\n",
       "      <td>NaN</td>\n",
       "      <td>NaN</td>\n",
       "      <td>NaN</td>\n",
       "    </tr>\n",
       "    <tr>\n",
       "      <th>3</th>\n",
       "      <td>Film &amp; Video</td>\n",
       "      <td>canceled</td>\n",
       "      <td>14</td>\n",
       "      <td>US</td>\n",
       "      <td>1283</td>\n",
       "      <td>NaN</td>\n",
       "      <td>NaN</td>\n",
       "      <td>NaN</td>\n",
       "      <td>NaN</td>\n",
       "    </tr>\n",
       "    <tr>\n",
       "      <th>4</th>\n",
       "      <td>Food</td>\n",
       "      <td>successful</td>\n",
       "      <td>224</td>\n",
       "      <td>US</td>\n",
       "      <td>52375</td>\n",
       "      <td>NaN</td>\n",
       "      <td>NaN</td>\n",
       "      <td>NaN</td>\n",
       "      <td>NaN</td>\n",
       "    </tr>\n",
       "  </tbody>\n",
       "</table>\n",
       "</div>"
      ],
      "text/plain": [
       "       category       state backers country usd pledged Unnamed: 5 Unnamed: 6  \\\n",
       "0    Publishing      failed       0      GB           0        NaN        NaN   \n",
       "1  Film & Video      failed       3      US         220        NaN        NaN   \n",
       "2         Music      failed       1      US           1        NaN        NaN   \n",
       "3  Film & Video    canceled      14      US        1283        NaN        NaN   \n",
       "4          Food  successful     224      US       52375        NaN        NaN   \n",
       "\n",
       "  Unnamed: 7  Unnamed: 8  \n",
       "0        NaN         NaN  \n",
       "1        NaN         NaN  \n",
       "2        NaN         NaN  \n",
       "3        NaN         NaN  \n",
       "4        NaN         NaN  "
      ]
     },
     "execution_count": 50,
     "metadata": {},
     "output_type": "execute_result"
    }
   ],
   "source": [
    "# This code shows us the first five entries in the data frame. \n",
    "df.head()"
   ]
  },
  {
   "cell_type": "code",
   "execution_count": 51,
   "id": "ecb51eee",
   "metadata": {},
   "outputs": [],
   "source": [
    "# This code lets us see all of the values we want. \n",
    "pd.set_option(\"display.max_rows\", None, \"display.max_columns\", None)"
   ]
  },
  {
   "cell_type": "code",
   "execution_count": 52,
   "id": "cbea7b12",
   "metadata": {},
   "outputs": [
    {
     "data": {
      "text/plain": [
       "category\n",
       "Film & Video               57679\n",
       "Music                      46744\n",
       "Publishing                 34233\n",
       "Games                      28008\n",
       "Technology                 26128\n",
       "Art                        23975\n",
       "Design                     23872\n",
       "Food                       21229\n",
       "Fashion                    18398\n",
       "Theater                     9972\n",
       "Photography                 9680\n",
       "Comics                      8753\n",
       "Crafts                      7187\n",
       "Journalism                  4073\n",
       "Dance                       3375\n",
       "Fiction                       35\n",
       "Product Design                29\n",
       "Documentary                   28\n",
       "Nonfiction                    27\n",
       "Children's Books              18\n",
       "Tabletop Games                14\n",
       "Shorts                        13\n",
       "Video Games                   12\n",
       "Mixed Media                   11\n",
       "Art Books                     10\n",
       "Apparel                       10\n",
       "Web                            8\n",
       "Narrative Film                 8\n",
       "Webseries                      7\n",
       "Hip-Hop                        7\n",
       "Country & Folk                 7\n",
       "Indie Rock                     7\n",
       "Apps                           7\n",
       "Digital Art                    6\n",
       "Periodicals                    6\n",
       "Sculpture                      6\n",
       "Poetry                         6\n",
       "Hardware                       6\n",
       "Software                       5\n",
       "Painting                       5\n",
       "Pop                            5\n",
       "Conceptual Art                 5\n",
       "Classical Music                4\n",
       "Jazz                           4\n",
       "Performance Art                4\n",
       "World Music                    4\n",
       "Illustration                   4\n",
       "Places                         3\n",
       "Installations                  3\n",
       "Space Exploration              3\n",
       "Restaurants                    3\n",
       "Rock                           3\n",
       "Mobile Games                   3\n",
       "Academic                       3\n",
       "Architecture                   3\n",
       "Public Art                     3\n",
       "Playing Cards                  3\n",
       "Small Batch                    3\n",
       "Graphic Design                 3\n",
       "Print                          3\n",
       "Horror                         3\n",
       "Fine Art                       2\n",
       "Electronic Music               2\n",
       "Food Trucks                    2\n",
       "Television                     2\n",
       "Zines                          2\n",
       "Animation                      2\n",
       "Young Adult                    2\n",
       "Video                          2\n",
       "Nature                         2\n",
       "Camera Equipment               2\n",
       "Drama                          2\n",
       "Comic Books                    2\n",
       "Accessories                    2\n",
       "Performances                   2\n",
       "DIY                            2\n",
       "Action                         1\n",
       "Farms                          1\n",
       "DIY Electronics                1\n",
       "Metal                          1\n",
       " Restore Pride                 1\n",
       "Ready-to-wear                  1\n",
       "Webcomics                      1\n",
       "Jewelry                        1\n",
       "3D Printing                    1\n",
       "Audio                          1\n",
       " Divine Wisdom                 1\n",
       "Literary Journals              1\n",
       "Woodworking                    1\n",
       " Demons                        1\n",
       " Good for your skin            1\n",
       " Spirits                       1\n",
       " soccer                        1\n",
       "R&B                            1\n",
       "Robots                         1\n",
       " Learn                         1\n",
       "Radio & Podcasts               1\n",
       "Festivals                      1\n",
       "Events                         1\n",
       " Retro Gaming art.             1\n",
       " 50 Years in the Making        1\n",
       "People                         1\n",
       "Interactive Design             1\n",
       "Vegan                          1\n",
       " M.ercury E.dition)            1\n",
       "Faith                          1\n",
       "Plays                          1\n",
       "Pet Fashion                    1\n",
       "Cookbooks                      1\n",
       "Drinks                         1\n",
       "Photobooks                     1\n",
       "Textiles                       1\n",
       "Wearables                      1\n",
       "Gaming Hardware                1\n",
       "Civic Design                   1\n",
       " Kingdom of Heaven.            1\n",
       "Musical                        1\n",
       "Flight                         1\n",
       " pants                         1\n",
       "Kids                           1\n",
       "Name: count, dtype: int64"
      ]
     },
     "execution_count": 52,
     "metadata": {},
     "output_type": "execute_result"
    }
   ],
   "source": [
    "# This code computes the number of times each category appears in the data frame. \n",
    "df['category'].value_counts()"
   ]
  },
  {
   "cell_type": "code",
   "execution_count": 53,
   "id": "5ca4d512",
   "metadata": {},
   "outputs": [
    {
     "data": {
      "text/html": [
       "<div>\n",
       "<style scoped>\n",
       "    .dataframe tbody tr th:only-of-type {\n",
       "        vertical-align: middle;\n",
       "    }\n",
       "\n",
       "    .dataframe tbody tr th {\n",
       "        vertical-align: top;\n",
       "    }\n",
       "\n",
       "    .dataframe thead th {\n",
       "        text-align: right;\n",
       "    }\n",
       "</style>\n",
       "<table border=\"1\" class=\"dataframe\">\n",
       "  <thead>\n",
       "    <tr style=\"text-align: right;\">\n",
       "      <th></th>\n",
       "      <th>category</th>\n",
       "      <th>state</th>\n",
       "      <th>backers</th>\n",
       "      <th>country</th>\n",
       "      <th>usd pledged</th>\n",
       "      <th>Unnamed: 5</th>\n",
       "      <th>Unnamed: 6</th>\n",
       "      <th>Unnamed: 7</th>\n",
       "      <th>Unnamed: 8</th>\n",
       "    </tr>\n",
       "  </thead>\n",
       "  <tbody>\n",
       "    <tr>\n",
       "      <th>57</th>\n",
       "      <td>Technology</td>\n",
       "      <td>failed</td>\n",
       "      <td>0</td>\n",
       "      <td>CA</td>\n",
       "      <td>0</td>\n",
       "      <td>NaN</td>\n",
       "      <td>NaN</td>\n",
       "      <td>NaN</td>\n",
       "      <td>NaN</td>\n",
       "    </tr>\n",
       "    <tr>\n",
       "      <th>61</th>\n",
       "      <td>Technology</td>\n",
       "      <td>canceled</td>\n",
       "      <td>15</td>\n",
       "      <td>US</td>\n",
       "      <td>2030</td>\n",
       "      <td>NaN</td>\n",
       "      <td>NaN</td>\n",
       "      <td>NaN</td>\n",
       "      <td>NaN</td>\n",
       "    </tr>\n",
       "    <tr>\n",
       "      <th>62</th>\n",
       "      <td>Technology</td>\n",
       "      <td>failed</td>\n",
       "      <td>3</td>\n",
       "      <td>US</td>\n",
       "      <td>100</td>\n",
       "      <td>NaN</td>\n",
       "      <td>NaN</td>\n",
       "      <td>NaN</td>\n",
       "      <td>NaN</td>\n",
       "    </tr>\n",
       "    <tr>\n",
       "      <th>88</th>\n",
       "      <td>Technology</td>\n",
       "      <td>failed</td>\n",
       "      <td>3</td>\n",
       "      <td>CA</td>\n",
       "      <td>2.41110072</td>\n",
       "      <td>NaN</td>\n",
       "      <td>NaN</td>\n",
       "      <td>NaN</td>\n",
       "      <td>NaN</td>\n",
       "    </tr>\n",
       "    <tr>\n",
       "      <th>94</th>\n",
       "      <td>Technology</td>\n",
       "      <td>canceled</td>\n",
       "      <td>19</td>\n",
       "      <td>CA</td>\n",
       "      <td>9240.736853</td>\n",
       "      <td>NaN</td>\n",
       "      <td>NaN</td>\n",
       "      <td>NaN</td>\n",
       "      <td>NaN</td>\n",
       "    </tr>\n",
       "  </tbody>\n",
       "</table>\n",
       "</div>"
      ],
      "text/plain": [
       "      category     state backers country  usd pledged Unnamed: 5 Unnamed: 6  \\\n",
       "57  Technology    failed       0      CA            0        NaN        NaN   \n",
       "61  Technology  canceled      15      US         2030        NaN        NaN   \n",
       "62  Technology    failed       3      US          100        NaN        NaN   \n",
       "88  Technology    failed       3      CA   2.41110072        NaN        NaN   \n",
       "94  Technology  canceled      19      CA  9240.736853        NaN        NaN   \n",
       "\n",
       "   Unnamed: 7  Unnamed: 8  \n",
       "57        NaN         NaN  \n",
       "61        NaN         NaN  \n",
       "62        NaN         NaN  \n",
       "88        NaN         NaN  \n",
       "94        NaN         NaN  "
      ]
     },
     "execution_count": 53,
     "metadata": {},
     "output_type": "execute_result"
    }
   ],
   "source": [
    "# This creates a new data frame by filtering the original data frame by the category, in this case to specifically get 'Food' kickstarters. \n",
    "tech = df[df['category'] == 'Technology']\n",
    "tech.head()"
   ]
  },
  {
   "cell_type": "code",
   "execution_count": 54,
   "id": "bbc1a12b",
   "metadata": {},
   "outputs": [
    {
     "data": {
      "text/plain": [
       "26128"
      ]
     },
     "execution_count": 54,
     "metadata": {},
     "output_type": "execute_result"
    }
   ],
   "source": [
    "# This tells us the number of Food kickstarters.\n",
    "len(tech)"
   ]
  },
  {
   "cell_type": "code",
   "execution_count": 55,
   "id": "2631b7df",
   "metadata": {},
   "outputs": [
    {
     "data": {
      "text/plain": [
       "5062"
      ]
     },
     "execution_count": 55,
     "metadata": {},
     "output_type": "execute_result"
    }
   ],
   "source": [
    "# This tells us how many successful Food kickstarters there are.\n",
    "len(tech[tech['state']=='successful'])"
   ]
  },
  {
   "cell_type": "code",
   "execution_count": 56,
   "id": "4342ffc2",
   "metadata": {},
   "outputs": [
    {
     "data": {
      "text/plain": [
       "state\n",
       "failed        16347\n",
       "successful     5062\n",
       "canceled       3749\n",
       "live            632\n",
       "suspended       323\n",
       "undefined         3\n",
       "0                 2\n",
       "2408              1\n",
       "12                1\n",
       "39                1\n",
       "5                 1\n",
       "14159             1\n",
       "741               1\n",
       "7492              1\n",
       "130               1\n",
       "1                 1\n",
       "19224             1\n",
       "Name: count, dtype: int64"
      ]
     },
     "execution_count": 56,
     "metadata": {},
     "output_type": "execute_result"
    }
   ],
   "source": [
    "# This code lets us see the different 'state' values for Food kickstarters. Notice how some of these make sense, while others are not useful. \n",
    "tech['state'].value_counts()"
   ]
  },
  {
   "cell_type": "markdown",
   "id": "435c1d4b",
   "metadata": {},
   "source": [
    "The \"state\" that most concerns me are the projects that have been cancelled, because there could have been many great ideas, that never took off, for whatever reason. However, I intend to determine a success rate if we only take into account the projects that failed, and the projects that succeeded. Afterwards, I want to take the total of the projects that succeeded and failed, and calculate the proportion of those that succeeded."
   ]
  },
  {
   "cell_type": "code",
   "execution_count": 57,
   "id": "963e685b",
   "metadata": {},
   "outputs": [
    {
     "name": "stdout",
     "output_type": "stream",
     "text": [
      "Proportion of technology kickstarters that are successful: 0.1937385180649112\n"
     ]
    }
   ],
   "source": [
    "techsuccess=len(tech[tech['state']=='successful'])\n",
    "techgeneral=len(tech)\n",
    "techsuccessgeneralprobability=techsuccess/techgeneral\n",
    "\n",
    "print(\"Proportion of technology kickstarters that are successful: \"+str(techsuccessgeneralprobability))"
   ]
  },
  {
   "cell_type": "code",
   "execution_count": 58,
   "id": "d4f4c47b",
   "metadata": {},
   "outputs": [
    {
     "name": "stdout",
     "output_type": "stream",
     "text": [
      "Proportion of technology kickstarters that are successful: 0.23644261759073287\n"
     ]
    }
   ],
   "source": [
    "\n",
    "techfailure=len(tech[tech['state']=='failed'])\n",
    "\n",
    "techsecondgeneral=int(techsuccess)+int(techfailure)\n",
    "\n",
    "techsuccessprobability=techsuccess/techsecondgeneral\n",
    "\n",
    "print(\"Proportion of technology kickstarters that are successful: \"+str(techsuccessprobability))"
   ]
  },
  {
   "cell_type": "code",
   "execution_count": 59,
   "id": "5848b852",
   "metadata": {},
   "outputs": [
    {
     "name": "stdout",
     "output_type": "stream",
     "text": [
      "Critical Value Method: Reject the null hypothesis\n",
      "P-value Method: Reject the null hypothesis\n",
      "P-value: 0.0\n"
     ]
    },
    {
     "data": {
      "image/png": "[encoded data removed]",
      "text/plain": [
       "<Figure size 640x480 with 1 Axes>"
      ]
     },
     "metadata": {},
     "output_type": "display_data"
    }
   ],
   "source": [
    "import numpy as np\n",
    "import scipy.stats as stats\n",
    "import matplotlib.pyplot as plt\n",
    "\n",
    "# Function to perform hypothesis test\n",
    "def hypothesis_test(p_sample, p_kickstarter, n, alpha):\n",
    "    # Critical value method\n",
    "    z_critical = stats.norm.ppf(1 - alpha/2)\n",
    "    z = (p_sample - p_kickstarter) / np.sqrt((p_kickstarter*(1 - p_kickstarter))/n)\n",
    "    if np.abs(z) > z_critical:\n",
    "        print(\"Critical Value Method: Reject the null hypothesis\")\n",
    "    else:\n",
    "        print(\"Critical Value Method: Fail to reject the null hypothesis\")\n",
    "    \n",
    "    # P-value method\n",
    "    p_value = 2 * (1 - stats.norm.cdf(np.abs(z)))\n",
    "    if p_value < alpha:\n",
    "        print(\"P-value Method: Reject the null hypothesis\")\n",
    "    else:\n",
    "        print(\"P-value Method: Fail to reject the null hypothesis\")\n",
    "    print(\"P-value:\", p_value)\n",
    "    \n",
    "    # Plot normal distribution\n",
    "    x = np.linspace(-4, 4, 1000)\n",
    "    y = stats.norm.pdf(x, 0, 1)\n",
    "    plt.plot(x, y, 'k', label='Standard Normal Distribution')\n",
    "    plt.fill_between(x, 0, y, where=(x <= -z_critical), color='red', alpha=0.5)\n",
    "    plt.fill_between(x, 0, y, where=(x >= z_critical), color='red', alpha=0.5)\n",
    "    plt.axvline(x=z, color='blue', linestyle='--', label='Sample Proportion')\n",
    "    plt.xlabel('Z-Score')\n",
    "    plt.ylabel('Probability Density')\n",
    "    plt.title('Hypothesis Test on Kickstarter Success Rate')\n",
    "    plt.legend()\n",
    "    plt.show()\n",
    "\n",
    "# Sample statistics\n",
    "p_sample = 0.19  # Sample proportion\n",
    "p_kickstarter = 0.36  # Population proportion for Kickstarter\n",
    "n = 1000  # Sample size\n",
    "alpha = 0.05  # Significance level\n",
    "\n",
    "# Perform hypothesis test and plot results\n",
    "hypothesis_test(p_sample, p_kickstarter, n, alpha)\n"
   ]
  },
  {
   "cell_type": "markdown",
   "id": "5af3b2b1",
   "metadata": {},
   "source": [
    "I would absolutely not try a kickstarter project in technology, as the probability of success is simply to small, compared to the average for the website. I would either use a different website, or develop a product other than technology."
   ]
  }
 ],
 "metadata": {
  "kernelspec": {
   "display_name": "Python 3 (ipykernel)",
   "language": "python",
   "name": "python3"
  },
  "language_info": {
   "codemirror_mode": {
    "name": "ipython",
    "version": 3
   },
   "file_extension": ".py",
   "mimetype": "text/x-python",
   "name": "python",
   "nbconvert_exporter": "python",
   "pygments_lexer": "ipython3",
   "version": "3.12.0"
  }
 },
 "nbformat": 4,
 "nbformat_minor": 5
}
